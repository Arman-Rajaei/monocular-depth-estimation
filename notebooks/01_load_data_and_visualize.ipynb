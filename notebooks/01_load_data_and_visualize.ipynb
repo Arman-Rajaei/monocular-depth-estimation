{
 "cells": [
  {
   "cell_type": "code",
   "execution_count": 1,
   "id": "9db4acf9",
   "metadata": {},
   "outputs": [],
   "source": [
    "import numpy as np\n",
    "import matplotlib.pyplot as plt\n",
    "import torch\n",
    "import torchvision\n",
    "import torchvision.transforms as transforms\n",
    "import cv2"
   ]
  },
  {
   "cell_type": "code",
   "execution_count": 2,
   "id": "9dc7f371",
   "metadata": {},
   "outputs": [
    {
     "name": "stdout",
     "output_type": "stream",
     "text": [
      "Zip file already exists. Skipping download.\n",
      "Data already extracted. Skipping extraction.\n"
     ]
    }
   ],
   "source": [
    "import os\n",
    "import urllib.request\n",
    "import zipfile\n",
    "\n",
    "# Define dataset directory\n",
    "dataset_dir = \"../data/kitti_sample/\"\n",
    "zip_filename = \"kitti_sample.zip\"\n",
    "zip_path = os.path.join(dataset_dir, zip_filename)\n",
    "extracted_folder = os.path.join(dataset_dir, \"training\")  # KITTI usually has 'training' and 'testing' folders\n",
    "\n",
    "# Create the dataset directory if it doesn't exist\n",
    "os.makedirs(dataset_dir, exist_ok=True)\n",
    "\n",
    "# Download if not already downloaded\n",
    "if not os.path.exists(zip_path):\n",
    "    print(\"Downloading KITTI sample dataset...\")\n",
    "    url = \"https://s3.eu-central-1.amazonaws.com/avg-kitti/data_object_image_2.zip\"\n",
    "    urllib.request.urlretrieve(url, zip_path)\n",
    "    print(\"Download complete.\")\n",
    "else:\n",
    "    print(\"Zip file already exists. Skipping download.\")\n",
    "\n",
    "# Extract if not already extracted\n",
    "if not os.path.exists(extracted_folder):\n",
    "    print(\"Extracting ZIP file...\")\n",
    "    with zipfile.ZipFile(zip_path, 'r') as zip_ref:\n",
    "        zip_ref.extractall(dataset_dir)\n",
    "    print(\"Extraction complete.\")\n",
    "else:\n",
    "    print(\"Data already extracted. Skipping extraction.\")\n",
    "\n",
    "\n"
   ]
  },
  {
   "cell_type": "code",
   "execution_count": 3,
   "id": "3e6adc9a",
   "metadata": {},
   "outputs": [
    {
     "name": "stdout",
     "output_type": "stream",
     "text": [
      "Total images found in tiny dataset: 100\n"
     ]
    }
   ],
   "source": [
    "import glob\n",
    "import os\n",
    "\n",
    "# Tiny dataset path\n",
    "tiny_dataset_dir = \"../data/kitti_tiny/training/image_2/\"\n",
    "\n",
    "# Find all images\n",
    "tiny_image_paths = glob.glob(os.path.join(tiny_dataset_dir, \"*.png\"))\n",
    "tiny_image_paths = sorted(tiny_image_paths)\n",
    "\n",
    "print(f\"Total images found in tiny dataset: {len(tiny_image_paths)}\")\n"
   ]
  },
  {
   "cell_type": "code",
   "execution_count": 4,
   "id": "a2935476",
   "metadata": {},
   "outputs": [
    {
     "name": "stdout",
     "output_type": "stream",
     "text": [
      "Using device: cpu\n",
      "Epoch [1/5], Loss: 0.1963\n",
      "Epoch [2/5], Loss: 0.1118\n",
      "Epoch [3/5], Loss: 0.0934\n",
      "Epoch [4/5], Loss: 0.0947\n",
      "Epoch [5/5], Loss: 0.0787\n",
      "Training complete!\n"
     ]
    }
   ],
   "source": [
    "import torch\n",
    "import torch.nn as nn\n",
    "import torch.optim as optim\n",
    "from utils.dataset import KITTITinyDataset\n",
    "from models.depth_cnn import SimpleDepthCNN\n",
    "from torch.utils.data import DataLoader\n",
    "\n",
    "# Check device\n",
    "device = torch.device(\"cuda\" if torch.cuda.is_available() else \"cpu\")\n",
    "print(f\"Using device: {device}\")\n",
    "\n",
    "# Load dataset\n",
    "dataset = KITTITinyDataset(root_dir=\"../data/kitti_tiny/training/image_2/\")\n",
    "dataloader = DataLoader(dataset, batch_size=4, shuffle=True)\n",
    "\n",
    "# Initialize model\n",
    "model = SimpleDepthCNN().to(device)\n",
    "\n",
    "# Define loss and optimizer\n",
    "criterion = nn.L1Loss()  # Mean Absolute Error (good for depth)\n",
    "optimizer = optim.Adam(model.parameters(), lr=1e-3)\n",
    "\n",
    "# Training loop\n",
    "num_epochs = 5\n",
    "\n",
    "for epoch in range(num_epochs):\n",
    "    running_loss = 0.0\n",
    "    for inputs in dataloader:\n",
    "        inputs = inputs.to(device)\n",
    "\n",
    "        # Forward\n",
    "        outputs = model(inputs)\n",
    "\n",
    "        # Since we have no real depth maps, fake target = input's first channel (just for demo)\n",
    "        targets = inputs[:, 0:1, :, :]  # Take R channel as dummy depth\n",
    "\n",
    "        # Compute loss\n",
    "        # Resize model output to match target\n",
    "        outputs = torch.nn.functional.interpolate(outputs, size=targets.shape[-2:], mode=\"bilinear\", align_corners=False)\n",
    "\n",
    "        # Now compute loss\n",
    "        loss = criterion(outputs, targets)\n",
    "\n",
    "\n",
    "        # Backward + Optimize\n",
    "        optimizer.zero_grad()\n",
    "        loss.backward()\n",
    "        optimizer.step()\n",
    "\n",
    "        running_loss += loss.item()\n",
    "\n",
    "    print(f\"Epoch [{epoch+1}/{num_epochs}], Loss: {running_loss/len(dataloader):.4f}\")\n",
    "\n",
    "print(\"Training complete!\")\n"
   ]
  },
  {
   "cell_type": "code",
   "execution_count": null,
   "id": "8df2be17",
   "metadata": {},
   "outputs": [],
   "source": []
  }
 ],
 "metadata": {
  "kernelspec": {
   "display_name": "Python 3 (ipykernel)",
   "language": "python",
   "name": "python3"
  },
  "language_info": {
   "codemirror_mode": {
    "name": "ipython",
    "version": 3
   },
   "file_extension": ".py",
   "mimetype": "text/x-python",
   "name": "python",
   "nbconvert_exporter": "python",
   "pygments_lexer": "ipython3",
   "version": "3.11.4"
  }
 },
 "nbformat": 4,
 "nbformat_minor": 5
}
