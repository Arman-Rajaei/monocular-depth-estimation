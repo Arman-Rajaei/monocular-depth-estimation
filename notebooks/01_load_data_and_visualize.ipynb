{
 "cells": [
  {
   "cell_type": "code",
   "execution_count": 1,
   "id": "9db4acf9",
   "metadata": {},
   "outputs": [],
   "source": [
    "import numpy as np\n",
    "import matplotlib.pyplot as plt\n",
    "import torch\n",
    "import torchvision\n",
    "import torchvision.transforms as transforms\n",
    "import cv2"
   ]
  },
  {
   "cell_type": "code",
   "execution_count": 3,
   "id": "9dc7f371",
   "metadata": {},
   "outputs": [
    {
     "name": "stdout",
     "output_type": "stream",
     "text": [
      "Zip file already exists. Skipping download.\n",
      "Data already extracted. Skipping extraction.\n"
     ]
    }
   ],
   "source": [
    "import os\n",
    "import urllib.request\n",
    "import zipfile\n",
    "\n",
    "# Define dataset directory\n",
    "dataset_dir = \"../data/kitti_sample/\"\n",
    "zip_filename = \"kitti_sample.zip\"\n",
    "zip_path = os.path.join(dataset_dir, zip_filename)\n",
    "extracted_folder = os.path.join(dataset_dir, \"training\")  # KITTI usually has 'training' and 'testing' folders\n",
    "\n",
    "# Create the dataset directory if it doesn't exist\n",
    "os.makedirs(dataset_dir, exist_ok=True)\n",
    "\n",
    "# Download if not already downloaded\n",
    "if not os.path.exists(zip_path):\n",
    "    print(\"Downloading KITTI sample dataset...\")\n",
    "    url = \"https://s3.eu-central-1.amazonaws.com/avg-kitti/data_object_image_2.zip\"\n",
    "    urllib.request.urlretrieve(url, zip_path)\n",
    "    print(\"Download complete.\")\n",
    "else:\n",
    "    print(\"Zip file already exists. Skipping download.\")\n",
    "\n",
    "# Extract if not already extracted\n",
    "if not os.path.exists(extracted_folder):\n",
    "    print(\"Extracting ZIP file...\")\n",
    "    with zipfile.ZipFile(zip_path, 'r') as zip_ref:\n",
    "        zip_ref.extractall(dataset_dir)\n",
    "    print(\"Extraction complete.\")\n",
    "else:\n",
    "    print(\"Data already extracted. Skipping extraction.\")\n"
   ]
  },
  {
   "cell_type": "code",
   "execution_count": 4,
   "id": "3e6adc9a",
   "metadata": {},
   "outputs": [
    {
     "name": "stdout",
     "output_type": "stream",
     "text": [
      "Total images found in tiny dataset: 7481\n"
     ]
    }
   ],
   "source": [
    "import glob\n",
    "import os\n",
    "\n",
    "# Tiny dataset path\n",
    "tiny_dataset_dir = \"../data/kitti_sample/training/image_2/\"\n",
    "\n",
    "# Find all images\n",
    "tiny_image_paths = glob.glob(os.path.join(tiny_dataset_dir, \"*.png\"))\n",
    "tiny_image_paths = sorted(tiny_image_paths)\n",
    "\n",
    "print(f\"Total images found in tiny dataset: {len(tiny_image_paths)}\")\n"
   ]
  },
  {
   "cell_type": "code",
   "execution_count": 5,
   "id": "a2935476",
   "metadata": {},
   "outputs": [
    {
     "name": "stdout",
     "output_type": "stream",
     "text": [
      "Using device: cpu\n",
      "📸 Total RGB images before slicing: 7481\n",
      "💡 Using 98 RGB images starting from index 5\n",
      "🌊 Using 98 depth maps\n",
      "Epoch [1/10], Loss: 3.4622\n",
      "Epoch [2/10], Loss: 3.3461\n",
      "Epoch [3/10], Loss: 3.2716\n",
      "Epoch [4/10], Loss: 3.2529\n",
      "Epoch [5/10], Loss: 3.2723\n",
      "Epoch [6/10], Loss: 3.2495\n",
      "Epoch [7/10], Loss: 3.2334\n",
      "Epoch [8/10], Loss: 3.2224\n",
      "Epoch [9/10], Loss: 3.2135\n",
      "Epoch [10/10], Loss: 3.2120\n",
      "Training complete!\n"
     ]
    }
   ],
   "source": [
    "import torch\n",
    "import torch.nn as nn\n",
    "import torch.optim as optim\n",
    "from utils.dataset import KITTITinyDataset\n",
    "from models.depth_cnn import SimpleDepthCNN\n",
    "from torch.utils.data import DataLoader\n",
    "from torch.utils.data import Subset\n",
    "\n",
    "# Check device\n",
    "device = torch.device(\"cuda\" if torch.cuda.is_available() else \"cpu\")\n",
    "print(f\"Using device: {device}\")\n",
    "\n",
    "# Load dataset\n",
    "dataset = KITTITinyDataset(\n",
    "    image_root=\"../data/kitti_sample/training/image_2/\",\n",
    "    depth_root=\"../data/kitti_sample/data_depth_annotated/train/\"\n",
    ")\n",
    "dataloader = DataLoader(dataset, batch_size=4, shuffle=True)\n",
    "\n",
    "\n",
    "\n",
    "# Initialize model\n",
    "model = SimpleDepthCNN().to(device)\n",
    "\n",
    "# Define loss and optimizer\n",
    "criterion = nn.L1Loss()  # Mean Absolute Error (good for depth)\n",
    "optimizer = optim.Adam(model.parameters(), lr=1e-3)\n",
    "\n",
    "# Training loop\n",
    "# Training loop with loss tracking\n",
    "num_epochs = 10\n",
    "losses = []  # Store average loss per epoch\n",
    "\n",
    "for epoch in range(num_epochs):\n",
    "    running_loss = 0.0\n",
    "\n",
    "    for images, targets in dataloader:\n",
    "        images = images.to(device)\n",
    "        targets = targets.to(device)\n",
    "\n",
    "        outputs = model(images)\n",
    "        outputs = torch.nn.functional.interpolate(outputs, size=targets.shape[-2:], mode=\"bilinear\", align_corners=False)\n",
    "        loss = criterion(outputs, targets)\n",
    "\n",
    "        # Backward + optimize\n",
    "        optimizer.zero_grad()\n",
    "        loss.backward()\n",
    "        optimizer.step()\n",
    "\n",
    "        running_loss += loss.item()\n",
    "\n",
    "    avg_loss = running_loss / len(dataloader)\n",
    "    losses.append(avg_loss)\n",
    "    print(f\"Epoch [{epoch+1}/{num_epochs}], Loss: {avg_loss:.4f}\")\n",
    "\n",
    "\n",
    "print(\"Training complete!\")"
   ]
  }
 ],
 "metadata": {
  "kernelspec": {
   "display_name": "Python 3 (ipykernel)",
   "language": "python",
   "name": "python3"
  },
  "language_info": {
   "codemirror_mode": {
    "name": "ipython",
    "version": 3
   },
   "file_extension": ".py",
   "mimetype": "text/x-python",
   "name": "python",
   "nbconvert_exporter": "python",
   "pygments_lexer": "ipython3",
   "version": "3.11.4"
  }
 },
 "nbformat": 4,
 "nbformat_minor": 5
}
